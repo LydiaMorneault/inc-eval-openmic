{
 "cells": [
  {
   "attachments": {},
   "cell_type": "markdown",
   "metadata": {},
   "source": [
    "# Incremental Evaluation\n",
    "\n",
    "## 1 - Load the data"
   ]
  },
  {
   "cell_type": "code",
   "execution_count": null,
   "metadata": {},
   "outputs": [],
   "source": [
    "# Imports\n",
    "\n",
    "import json\n",
    "import os\n",
    "import numpy as np\n",
    "import pandas as pd\n",
    "\n",
    "from sklearn.ensemble import RandomForestClassifier\n",
    "from sklearn.neighbors import KNeighborsClassifier\n",
    "from sklearn.metrics import classification_report, precision_recall_curve, zero_one_loss\n",
    "\n",
    "import matplotlib.pyplot as plt\n",
    "\n",
    "\n",
    "from compare import *\n",
    "\n",
    "# Set this to the path where the data is \n",
    "DATA_ROOT = 'C:\\openmic-2018\\openmic-2018'\n",
    "\n",
    "if not os.path.exists(DATA_ROOT):\n",
    "    raise ValueError('Did you forget to set `DATA_ROOT`?')\n"
   ]
  },
  {
   "cell_type": "code",
   "execution_count": null,
   "metadata": {},
   "outputs": [],
   "source": [
    "# Loading the data\n",
    "OPENMIC = np.load(os.path.join(DATA_ROOT, 'openmic-2018.npz'), allow_pickle=True)\n",
    "\n",
    "# Make direct variable names for everything\n",
    "X, Y_true, Y_mask, sample_key = OPENMIC['X'], OPENMIC['Y_true'], OPENMIC['Y_mask'], OPENMIC['sample_key']\n"
   ]
  },
  {
   "cell_type": "code",
   "execution_count": null,
   "metadata": {},
   "outputs": [],
   "source": [
    "# Map class indices to names\n",
    "with open(os.path.join(DATA_ROOT, 'class-map.json'), 'r') as f:\n",
    "    class_map = json.load(f)"
   ]
  },
  {
   "cell_type": "code",
   "execution_count": null,
   "metadata": {},
   "outputs": [],
   "source": [
    "class_map"
   ]
  },
  {
   "attachments": {},
   "cell_type": "markdown",
   "metadata": {},
   "source": [
    "## 2 - Load the splits\n",
    "### Creating splits for train, test, and the unlabeled data.\n",
    "###### Adapted from the original OpenMIC notebook"
   ]
  },
  {
   "cell_type": "code",
   "execution_count": null,
   "metadata": {},
   "outputs": [],
   "source": [
    "# Split the data into train, test, and unlabeled sets\n",
    "# Use squeeze=True here to return a single array for each, rather than a full DataFrame\n",
    "\n",
    "split_train = pd.read_csv(os.path.join(DATA_ROOT, 'partitions/split01_train.csv'), \n",
    "                          header=None).squeeze(\"columns\")\n",
    "split_test = pd.read_csv(os.path.join(DATA_ROOT, 'partitions/split01_test.csv'), \n",
    "                         header=None).squeeze(\"columns\")\n",
    "\n",
    "# Create partition CSV for unlabeled\n",
    "split_unlabeled = pd.read_csv(os.path.join(DATA_ROOT, 'partitions/split01_unlabeled.csv'), \n",
    "                         header=None).squeeze(\"columns\")"
   ]
  },
  {
   "cell_type": "code",
   "execution_count": null,
   "metadata": {},
   "outputs": [],
   "source": [
    "# The breakdown of the data is roughly 50% training, 25% test, 25% unlabeled\n",
    "# The percentage breakdowns can be adjusted by adjusting the partitions csv's above \n",
    "print('# Train: {},  # Test: {}, # Unlabeled: {}'.format(len(split_train), len(split_test), len(split_unlabeled)))"
   ]
  },
  {
   "cell_type": "code",
   "execution_count": null,
   "metadata": {},
   "outputs": [],
   "source": [
    "train_set = set(split_train)\n",
    "test_set = set(split_test)\n",
    "unlabeled_set = set(split_unlabeled)"
   ]
  },
  {
   "cell_type": "code",
   "execution_count": null,
   "metadata": {},
   "outputs": [],
   "source": [
    "# Split the data into arrays\n",
    "\n",
    "idx_train, idx_test, idx_unlabeled = [], [], []\n",
    "\n",
    "for idx, n in enumerate(sample_key):\n",
    "    if n in train_set:\n",
    "        idx_train.append(idx)\n",
    "    elif n in test_set:\n",
    "        idx_test.append(idx)\n",
    "    elif n in unlabeled_set:\n",
    "        idx_unlabeled.append(idx)\n",
    "    else:\n",
    "        raise RuntimeError('Unknown sample key={}! Abort!'.format(sample_key[n]))\n",
    "\n",
    "# Cast the idx_* arrays to numpy structures\n",
    "idx_train = np.asarray(idx_train)\n",
    "idx_test = np.asarray(idx_test)\n",
    "idx_unlabeled = np.asarray(idx_unlabeled)"
   ]
  },
  {
   "cell_type": "markdown",
   "metadata": {},
   "source": [
    "### What's included in the data?\n",
    "\n",
    "- `X`: 20000 * 10 * 128 array of VGGish features\n",
    "    - First index (0..19999) corresponds to the sample key\n",
    "    - Second index (0..9) corresponds to the time within the clip (each time slice is 960 ms long)\n",
    "    - Third index (0..127) corresponds to the VGGish features at each point in the 10sec clip\n",
    "    - Example `X[40, 8]` is the 128-dimensional feature vector for the 9th time slice in the 41st example\n",
    "- `Y_true`: 20000 * 20 array of *true* label probabilities\n",
    "    - First index corresponds to sample key, as above\n",
    "    - Second index corresponds to the label class (accordion, ..., voice)\n",
    "    - Example: `Y[40, 4]` indicates the confidence that example #41 contains the 5th instrument\n",
    "- `Y_mask`: 20000 * 20 binary mask values\n",
    "    - First index corresponds to sample key\n",
    "    - Second index corresponds to the label class\n",
    "    - Example: `Y[40, 4]` indicates whether or not we have observations for the 5th instrument for example #41\n",
    "- `sample_key`: 20000 array of sample key strings\n",
    "    - Example: `sample_key[40]` is the sample key for example #41"
   ]
  },
  {
   "cell_type": "code",
   "execution_count": null,
   "metadata": {},
   "outputs": [],
   "source": [
    "# Finally, we use the split indices to partition the features, labels, and masks\n",
    "X_train = X[idx_train]\n",
    "X_test = X[idx_test]\n",
    "X_unlabeled = X[idx_unlabeled]\n",
    "\n",
    "Y_true_train = Y_true[idx_train]\n",
    "Y_true_test = Y_true[idx_test]\n",
    "Y_true_unlabeled = Y_true[idx_unlabeled]\n",
    "\n",
    "Y_mask_train = Y_mask[idx_train]\n",
    "Y_mask_test = Y_mask[idx_test]\n",
    "Y_mask_unlabeled = Y_mask[idx_unlabeled]"
   ]
  },
  {
   "cell_type": "code",
   "execution_count": null,
   "metadata": {},
   "outputs": [],
   "source": [
    "# Validate shapes of slices\n",
    "print(X_train.shape)\n",
    "print(X_test.shape)\n",
    "print(X_unlabeled.shape)"
   ]
  },
  {
   "attachments": {},
   "cell_type": "markdown",
   "metadata": {},
   "source": [
    "## 3 - Fit the models"
   ]
  },
  {
   "cell_type": "code",
   "execution_count": null,
   "metadata": {},
   "outputs": [],
   "source": [
    "models = dict()\n",
    "\n",
    "for instrument in class_map:\n",
    "\n",
    "    # Map the instrument name to its column number\n",
    "    inst_num = class_map[instrument]\n",
    "\n",
    "    rfc = trainModel(\"rfc\",inst_num, X_train, Y_true_train, Y_mask_train)[0]\n",
    "    knn = trainModel(\"knn\",inst_num, X_train, Y_true_train, Y_mask_train)[0]\n",
    "   \n",
    "    # Store the classifier in our dictionary\n",
    "    models[instrument] = [rfc, knn]"
   ]
  },
  {
   "attachments": {},
   "cell_type": "markdown",
   "metadata": {},
   "source": [
    "## 4 - Algorithmic Disagreement\n",
    "\n",
    "#### In the algorithimc disagreement process, two models evaluate the same piece of data and their evaluations are compared. If they disagree on their evaluation, that track is deemed to be a priority for annotation.\n",
    "##### Let's start with an example"
   ]
  },
  {
   "cell_type": "code",
   "execution_count": null,
   "metadata": {},
   "outputs": [],
   "source": [
    "# We need soundfile to load audio data\n",
    "import soundfile as sf\n",
    "\n",
    "# For audio playback\n",
    "from IPython.display import Audio"
   ]
  },
  {
   "cell_type": "code",
   "execution_count": null,
   "metadata": {},
   "outputs": [],
   "source": [
    "# uncertaintyScores[\"voice\"]"
   ]
  },
  {
   "cell_type": "code",
   "execution_count": null,
   "metadata": {},
   "outputs": [],
   "source": [
    "# list(uncertaintyScores[\"voice\"].items())[:5]"
   ]
  },
  {
   "cell_type": "code",
   "execution_count": null,
   "metadata": {},
   "outputs": [],
   "source": [
    "# Get ID of the most uncertain track for voice\n",
    "# highest_idx = list(uncertaintyScores.get(\"voice\").items())[0][0]\n",
    "# trackID = split_unlabeled[highest_idx]"
   ]
  },
  {
   "cell_type": "code",
   "execution_count": null,
   "metadata": {},
   "outputs": [],
   "source": [
    "# And the most uncertain track is...\n",
    "# trackID"
   ]
  },
  {
   "attachments": {},
   "cell_type": "markdown",
   "metadata": {},
   "source": [
    "Let's hear what this difficult-to-label track sounds like!"
   ]
  },
  {
   "cell_type": "code",
   "execution_count": null,
   "metadata": {},
   "outputs": [],
   "source": [
    "# Replace below .ogg file with trackID\n",
    "# audio, rate = sf.read(os.path.join(DATA_ROOT, 'audio/027/027639_257280.ogg'))"
   ]
  },
  {
   "cell_type": "code",
   "execution_count": null,
   "metadata": {},
   "outputs": [],
   "source": [
    "# Let's listen to the example\n",
    "# Audio(data=audio.T, rate=rate)"
   ]
  },
  {
   "attachments": {},
   "cell_type": "markdown",
   "metadata": {},
   "source": [
    "### 5 - Incremental Evaluation -- Simulate the Annotation Process"
   ]
  },
  {
   "cell_type": "code",
   "execution_count": null,
   "metadata": {},
   "outputs": [],
   "source": [
    "# First, train a model on the fully annotated dataset. This is what we will be measuring efficiency against. \n",
    "combined_models = dict()\n",
    "ctrl_true_vals = dict()\n",
    "\n",
    "for instrument in class_map:\n",
    "\n",
    "    # get column num from instrument name\n",
    "    inst_num = class_map[instrument]\n",
    "\n",
    "    rfc, props = trainModel(\"rfc\",inst_num, X_train, Y_true_train, Y_mask_train)\n",
    "    combined_models[instrument] = rfc\n",
    "\n",
    "    # Repeat slicing for test\n",
    "    test_inst = Y_mask_test[:, inst_num]\n",
    "    X_test_inst = X_test[test_inst]\n",
    "    X_test_inst_sklearn = np.mean(X_test_inst, axis=1)\n",
    "    Y_true_test_inst = Y_true_test[test_inst, inst_num] >= 0.5\n",
    "\n",
    "\n",
    "    ctrl_true_vals[instrument] = Y_true_test_inst\n"
   ]
  },
  {
   "cell_type": "code",
   "execution_count": null,
   "metadata": {},
   "outputs": [],
   "source": [
    "# Perform disagreement\n",
    "sorted_trx, allInstProbs = compare(X_unlabeled, models)"
   ]
  },
  {
   "cell_type": "code",
   "execution_count": null,
   "metadata": {},
   "outputs": [],
   "source": [
    "# Set Up\n",
    "skipIndices = {}\n",
    "accuracies_over_time = {}\n",
    "ctrl_accuracies = {}\n",
    "instrProps = {}\n",
    "reports = {}\n",
    "fscores = {}\n",
    "losses = {}\n",
    "\n",
    "# Populate dictionaries with instrument keys\n",
    "for i in class_map:\n",
    "    skipIndices[i] = []\n",
    "    accuracies_over_time[i] = []\n",
    "    ctrl_accuracies[i] = []\n",
    "    instrProps[i] = []\n",
    "    reports[i] = []\n",
    "    fscores[i] = []\n",
    "    losses[i] = []\n",
    "    sorted_trx[i] = list(sorted_trx[i].items())\n",
    "\n",
    "X_labeled = []           # Track IDs for labeled tracks\n",
    "Y_true_labeled = []      # True values for labeled tracks"
   ]
  },
  {
   "cell_type": "code",
   "execution_count": null,
   "metadata": {},
   "outputs": [],
   "source": [
    "# Constants\n",
    "NUM_TO_LABEL = 1000  # Batch size\n",
    "EPOCHS = 3       # Number of times to annotate\n",
    "\n",
    "# MAIN LOOP\n",
    "for i in range(EPOCHS):\n",
    "\n",
    "    # get instrument predictions\n",
    "\n",
    "    for instr in sorted_trx:   \n",
    "        print(i, instr)\n",
    "\n",
    "\n",
    "        ###########################################################################\n",
    "        # SELECT TRACKS FOR ANNOTATION\n",
    "\n",
    "        # Retrieve the top tracks for annotation\n",
    "        track_indices = sorted_trx[instr][:NUM_TO_LABEL]\n",
    "        track_indices = [i[0] for i in track_indices]   # isolates the indices\n",
    "\n",
    "        # add random tracks to be annotated to avoid false positives\n",
    "        # track_indices = addRandomTracks(NUM_RANDOM, len(sorted_trx[instr]), track_indices, allInstProbs[instr])\n",
    "\n",
    "        # add track IDs to the labeled list\n",
    "        for trk in track_indices:\n",
    "            X_labeled.append(X_unlabeled[trk])\n",
    "\n",
    "            # If the track has not yet been labeled for this instrument, update with avg prediction\n",
    "            if Y_true_unlabeled[trk][class_map[instr]] == 0.5:\n",
    "                Y_true_unlabeled[trk][class_map[instr]] = np.average(allInstProbs[instr][trk])\n",
    "        \n",
    "            Y_true_labeled.append(Y_true_unlabeled[trk])\n",
    "            Y_mask_unlabeled[trk][class_map[instr]] = True\n",
    "\n",
    "        # Update indices to skip here\n",
    "        sorted_trx[instr] = sorted_trx[instr][NUM_TO_LABEL:]\n",
    "\n",
    "        ###########################################################################\n",
    "        # TRAIN MODEL ON PARTIALLY ANNOTATED DATASET\n",
    "        \n",
    "        inst_num = class_map[instr]\n",
    "        model, props = trainModel(modelType=\"rfc\",inst_num=inst_num, X_train=X_train, \\\n",
    "                X_labeled=X_labeled, Y_true_train=Y_true_train, Y_true_labeled=np.array(Y_true_labeled), \\\n",
    "                Y_mask_train=Y_mask_train)\n",
    "        \n",
    "        instrProps[instr].append(props)\n",
    "\n",
    "        # Repeat slicing for test\n",
    "        test_inst = Y_mask_test[:, inst_num]\n",
    "        X_test_inst = X_test[test_inst]\n",
    "        X_test_inst_sklearn = np.mean(X_test_inst, axis=1)\n",
    "        Y_true_test_inst = Y_true_test[test_inst, inst_num] >= 0.5\n",
    "\n",
    "        ###########################################################################\n",
    "        # COMPARE ACCURACY WITH FULLY ANNOTATED MODEL\n",
    "\n",
    "        # Graph the accuracy results\n",
    "        control_model = combined_models[instr]\n",
    "\n",
    "        Y_pred_test_ctrl = control_model.predict(X_test_inst_sklearn)\n",
    "        Y_pred_test_rfc = model.predict(X_test_inst_sklearn)\n",
    "\n",
    "        rprt = classification_report(Y_true_test_inst, Y_pred_test_rfc, output_dict=True, zero_division=1) \n",
    "        ctrl_rprt = classification_report(ctrl_true_vals[instr], Y_pred_test_ctrl, output_dict=True, zero_division=1)\n",
    "\n",
    "        acc = rprt[\"accuracy\"]\n",
    "        ctrl_acc = ctrl_rprt[\"accuracy\"]\n",
    "\n",
    "        f1 = rprt['weighted avg']['f1-score']\n",
    "\n",
    "        loss = zero_one_loss(Y_true_test_inst, Y_pred_test_rfc)\n",
    "\n",
    "        accuracies_over_time[instr].append(acc)\n",
    "        ctrl_accuracies[instr].append(ctrl_acc)\n",
    "        fscores[instr].append(f1)\n",
    "        reports[instr].append(rprt)\n",
    "        losses[instr].append(loss)\n"
   ]
  },
  {
   "attachments": {},
   "cell_type": "markdown",
   "metadata": {},
   "source": [
    "# Graph the results"
   ]
  },
  {
   "cell_type": "code",
   "execution_count": null,
   "metadata": {},
   "outputs": [],
   "source": [
    "# for i in class_map:\n",
    "\n",
    "#     # plt.figure(figsize=(6,6))\n",
    "\n",
    "#     plt.bar([\"train positive\", \"train negative\"], height=instrProps[i][j].get('train'))\n",
    "#     plt.bar([\"test positive\", \"test negative\"], height=instrProps[i][j].get('test'))\n",
    "\n",
    "#     plt.xlabel(\"Epochs\")\n",
    "#     plt.ylabel(\"Number of Tracks\")\n",
    "#     plt.title(i)\n",
    "#     plt.show()"
   ]
  },
  {
   "cell_type": "code",
   "execution_count": null,
   "metadata": {},
   "outputs": [],
   "source": [
    "# x = np.arange(len(class_map))  # the label locations\n",
    "# width = 0.25  # the width of the bars\n",
    "# multiplier = 0\n",
    "\n",
    "# fig, ax = plt.subplots(layout='constrained', figsize=(12,4))\n",
    "\n",
    "# for train in instrProps[i][0].items():\n",
    "#     val = train\n",
    "#     offset = width * multiplier\n",
    "#     rects = ax.bar(x + offset, train[1][0], width, label=train[0])\n",
    "#     ax.bar_label(rects, padding=3)\n",
    "#     multiplier += 1\n",
    "\n",
    "# # Add some text for labels, title and custom x-axis tick labels, etc.\n",
    "# ax.set_ylabel('Number of Tracks')\n",
    "# ax.set_title('Positive vs. Negative Examples')\n",
    "# ax.set_xticks(x + width, class_map)\n",
    "# ax.legend(loc='upper left', ncols=3)\n",
    "\n",
    "# plt.show()"
   ]
  },
  {
   "cell_type": "code",
   "execution_count": null,
   "metadata": {},
   "outputs": [],
   "source": [
    "np.arange(NUM_TO_LABEL, (EPOCHS+1)*NUM_TO_LABEL, NUM_TO_LABEL)"
   ]
  },
  {
   "cell_type": "code",
   "execution_count": null,
   "metadata": {},
   "outputs": [],
   "source": [
    "for i in class_map:\n",
    "\n",
    "    plt.plot(accuracies_over_time[i], linestyle='dotted', label='Partially-annotated Accuracy')\n",
    "    plt.plot(ctrl_accuracies[i], label=\"Fully-annotated Accuracy\")\n",
    "    plt.plot(fscores[i], linestyle='dashed', label='F-Score')\n",
    "    # plt.plot(losses[i], linestyle='dashdot')\n",
    "    # plt.ylim((0.65, 1.0))\n",
    "    plt.xlabel(\"Tracks Labeled\")\n",
    "    plt.xticks(np.arange(EPOCHS), np.arange(NUM_TO_LABEL, (EPOCHS+1)*NUM_TO_LABEL, NUM_TO_LABEL))\n",
    "    plt.ylabel(\"Accuracy\")\n",
    "    plt.legend()\n",
    "    plt.title(i)\n",
    "    plt.show()"
   ]
  },
  {
   "cell_type": "code",
   "execution_count": null,
   "metadata": {},
   "outputs": [],
   "source": [
    "# Plot average accuracy across instruments\n",
    "partial = []\n",
    "control = []\n",
    "avg_loss = []\n",
    "avg_f = []\n",
    "\n",
    "for n in range(EPOCHS):\n",
    "    t = [accuracies_over_time[i][n] for i in accuracies_over_time]   # isolates the indices\n",
    "    l = [losses[i][n] for i in losses]   # isolates the indices\n",
    "    f = [fscores[i][n] for i in fscores]   # isolates the indices\n",
    "    b = [ctrl_accuracies[i][n] for i in ctrl_accuracies]   # isolates the indices\n",
    "    partial.append(np.average(t))\n",
    "    control.append(np.average(b))\n",
    "    avg_loss.append(np.average(l))\n",
    "    avg_f.append(np.average(f))"
   ]
  },
  {
   "cell_type": "code",
   "execution_count": null,
   "metadata": {},
   "outputs": [],
   "source": [
    "plt.plot(avg_loss, linestyle='dashdot')\n",
    "plt.xlabel(\"Tracks Labeled\")\n",
    "plt.xticks(np.arange(EPOCHS), np.arange(NUM_TO_LABEL, (EPOCHS+1)*NUM_TO_LABEL, NUM_TO_LABEL))\n",
    "plt.ylabel(\"Average Loss\")\n",
    "plt.title(\"Loss Across all Instruments\")\n",
    "# plt.ylim(.65, 1.0)\n",
    "plt.show()"
   ]
  },
  {
   "cell_type": "code",
   "execution_count": null,
   "metadata": {},
   "outputs": [],
   "source": [
    "plt.plot(partial, linestyle='dotted', label='Accuracy')\n",
    "plt.plot(avg_f, linestyle='dashed', label='F-score')\n",
    "plt.plot(control)\n",
    "plt.xlabel(\"Tracks Labeled\")\n",
    "plt.xticks(np.arange(EPOCHS), np.arange(NUM_TO_LABEL, (EPOCHS+1)*NUM_TO_LABEL, NUM_TO_LABEL))\n",
    "plt.ylabel(\"Average Accuracy\")\n",
    "plt.title(\"Accuracy Across all Instruments\")\n",
    "plt.legend()\n",
    "# plt.ylim(.65, 1.0)\n",
    "plt.show()"
   ]
  }
 ],
 "metadata": {
  "interpreter": {
   "hash": "02260bda173dc4cfac9721b963d852cbd460b4b9f259c47413be5d43f6c0ea6b"
  },
  "kernelspec": {
   "display_name": "Python 3.10.10 64-bit (windows store)",
   "language": "python",
   "name": "python3"
  },
  "language_info": {
   "codemirror_mode": {
    "name": "ipython",
    "version": 3
   },
   "file_extension": ".py",
   "mimetype": "text/x-python",
   "name": "python",
   "nbconvert_exporter": "python",
   "pygments_lexer": "ipython3",
   "version": "3.10.0"
  },
  "orig_nbformat": 4,
  "vscode": {
   "interpreter": {
    "hash": "369f2c481f4da34e4445cda3fffd2e751bd1c4d706f27375911949ba6bb62e1c"
   }
  }
 },
 "nbformat": 4,
 "nbformat_minor": 2
}
