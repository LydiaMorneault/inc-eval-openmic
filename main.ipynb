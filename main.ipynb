{
 "cells": [
  {
   "attachments": {},
   "cell_type": "markdown",
   "metadata": {},
   "source": [
    "# Incremental Evaluation\n",
    "\n",
    "## 1 - Load the data"
   ]
  },
  {
   "cell_type": "code",
   "execution_count": null,
   "metadata": {},
   "outputs": [],
   "source": [
    "# Imports\n",
    "\n",
    "import json\n",
    "import os\n",
    "import numpy as np\n",
    "import pandas as pd\n",
    "\n",
    "from sklearn.ensemble import RandomForestClassifier\n",
    "from sklearn.neighbors import KNeighborsClassifier\n",
    "from sklearn.metrics import classification_report, precision_recall_curve\n",
    "\n",
    "import matplotlib.pyplot as plt\n",
    "\n",
    "\n",
    "from compare import *\n",
    "\n",
    "# Set this to the path where the data is \n",
    "DATA_ROOT = 'C:\\openmic-2018\\openmic-2018'\n",
    "\n",
    "if not os.path.exists(DATA_ROOT):\n",
    "    raise ValueError('Did you forget to set `DATA_ROOT`?')\n"
   ]
  },
  {
   "cell_type": "code",
   "execution_count": null,
   "metadata": {},
   "outputs": [],
   "source": [
    "# Loading the data\n",
    "OPENMIC = np.load(os.path.join(DATA_ROOT, 'openmic-2018.npz'), allow_pickle=True)\n",
    "\n",
    "# Make direct variable names for everything\n",
    "X, Y_true, Y_mask, sample_key = OPENMIC['X'], OPENMIC['Y_true'], OPENMIC['Y_mask'], OPENMIC['sample_key']\n"
   ]
  },
  {
   "cell_type": "code",
   "execution_count": null,
   "metadata": {},
   "outputs": [],
   "source": [
    "# Map class indices to names\n",
    "with open(os.path.join(DATA_ROOT, 'class-map.json'), 'r') as f:\n",
    "    class_map = json.load(f)"
   ]
  },
  {
   "cell_type": "code",
   "execution_count": null,
   "metadata": {},
   "outputs": [],
   "source": [
    "class_map"
   ]
  },
  {
   "attachments": {},
   "cell_type": "markdown",
   "metadata": {},
   "source": [
    "## 2 - Load the splits\n",
    "### Creating splits for train, test, and the unlabeled data.\n",
    "###### Adapted from the original OpenMIC notebook"
   ]
  },
  {
   "cell_type": "code",
   "execution_count": null,
   "metadata": {},
   "outputs": [],
   "source": [
    "# Split the data into train, test, and unlabeled sets\n",
    "# Use squeeze=True here to return a single array for each, rather than a full DataFrame\n",
    "\n",
    "split_train = pd.read_csv(os.path.join(DATA_ROOT, 'partitions/split01_train.csv'), \n",
    "                          header=None).squeeze(\"columns\")\n",
    "split_test = pd.read_csv(os.path.join(DATA_ROOT, 'partitions/split01_test.csv'), \n",
    "                         header=None).squeeze(\"columns\")\n",
    "\n",
    "# Create partition CSV for unlabeled\n",
    "split_unlabeled = pd.read_csv(os.path.join(DATA_ROOT, 'partitions/split01_unlabeled.csv'), \n",
    "                         header=None).squeeze(\"columns\")"
   ]
  },
  {
   "cell_type": "code",
   "execution_count": null,
   "metadata": {},
   "outputs": [],
   "source": [
    "# The breakdown of the data is roughly 50% training, 25% test, 25% unlabeled\n",
    "# The percentage breakdowns can be adjusted by adjusting the partitions csv's above \n",
    "print('# Train: {},  # Test: {}, # Unlabeled: {}'.format(len(split_train), len(split_test), len(split_unlabeled)))"
   ]
  },
  {
   "cell_type": "code",
   "execution_count": null,
   "metadata": {},
   "outputs": [],
   "source": [
    "train_set = set(split_train)\n",
    "test_set = set(split_test)\n",
    "unlabeled_set = set(split_unlabeled)"
   ]
  },
  {
   "cell_type": "code",
   "execution_count": null,
   "metadata": {},
   "outputs": [],
   "source": [
    "# Split the data into arrays\n",
    "\n",
    "idx_train, idx_test, idx_unlabeled = [], [], []\n",
    "\n",
    "for idx, n in enumerate(sample_key):\n",
    "    if n in train_set:\n",
    "        idx_train.append(idx)\n",
    "    elif n in test_set:\n",
    "        idx_test.append(idx)\n",
    "    elif n in unlabeled_set:\n",
    "        idx_unlabeled.append(idx)\n",
    "    else:\n",
    "        raise RuntimeError('Unknown sample key={}! Abort!'.format(sample_key[n]))\n",
    "\n",
    "# Cast the idx_* arrays to numpy structures\n",
    "idx_train = np.asarray(idx_train)\n",
    "idx_test = np.asarray(idx_test)\n",
    "idx_unlabeled = np.asarray(idx_unlabeled)"
   ]
  },
  {
   "cell_type": "markdown",
   "metadata": {},
   "source": [
    "### What's included in the data?\n",
    "\n",
    "- `X`: 20000 * 10 * 128 array of VGGish features\n",
    "    - First index (0..19999) corresponds to the sample key\n",
    "    - Second index (0..9) corresponds to the time within the clip (each time slice is 960 ms long)\n",
    "    - Third index (0..127) corresponds to the VGGish features at each point in the 10sec clip\n",
    "    - Example `X[40, 8]` is the 128-dimensional feature vector for the 9th time slice in the 41st example\n",
    "- `Y_true`: 20000 * 20 array of *true* label probabilities\n",
    "    - First index corresponds to sample key, as above\n",
    "    - Second index corresponds to the label class (accordion, ..., voice)\n",
    "    - Example: `Y[40, 4]` indicates the confidence that example #41 contains the 5th instrument\n",
    "- `Y_mask`: 20000 * 20 binary mask values\n",
    "    - First index corresponds to sample key\n",
    "    - Second index corresponds to the label class\n",
    "    - Example: `Y[40, 4]` indicates whether or not we have observations for the 5th instrument for example #41\n",
    "- `sample_key`: 20000 array of sample key strings\n",
    "    - Example: `sample_key[40]` is the sample key for example #41"
   ]
  },
  {
   "cell_type": "code",
   "execution_count": null,
   "metadata": {},
   "outputs": [],
   "source": [
    "# Finally, we use the split indices to partition the features, labels, and masks\n",
    "X_train = X[idx_train]\n",
    "X_test = X[idx_test]\n",
    "X_unlabeled = X[idx_unlabeled]\n",
    "\n",
    "Y_true_train = Y_true[idx_train]\n",
    "Y_true_test = Y_true[idx_test]\n",
    "Y_true_unlabeled = Y_true[idx_unlabeled]\n",
    "\n",
    "Y_mask_train = Y_mask[idx_train]\n",
    "Y_mask_test = Y_mask[idx_test]\n",
    "Y_mask_unlabeled = Y_mask[idx_unlabeled]"
   ]
  },
  {
   "cell_type": "code",
   "execution_count": null,
   "metadata": {},
   "outputs": [],
   "source": [
    "# Validate shapes of slices\n",
    "print(X_train.shape)\n",
    "print(X_test.shape)\n",
    "print(X_unlabeled.shape)"
   ]
  },
  {
   "attachments": {},
   "cell_type": "markdown",
   "metadata": {},
   "source": [
    "## 3 - Fit the models"
   ]
  },
  {
   "cell_type": "code",
   "execution_count": null,
   "metadata": {},
   "outputs": [],
   "source": [
    "models = dict()\n",
    "\n",
    "for instrument in class_map:\n",
    "\n",
    "    # Map the instrument name to its column number\n",
    "    inst_num = class_map[instrument]\n",
    "\n",
    "    rfc = trainModel(\"rfc\",inst_num, X_train, Y_true_train, Y_mask_train)[0]\n",
    "    knn = trainModel(\"knn\",inst_num, X_train, Y_true_train, Y_mask_train)[0]\n",
    "    \n",
    "    # Store the classifier in our dictionary\n",
    "    models[instrument] = [rfc, knn]"
   ]
  },
  {
   "attachments": {},
   "cell_type": "markdown",
   "metadata": {},
   "source": [
    "## 4 - Algorithmic Disagreement\n",
    "\n",
    "#### In the algorithimc disagreement process, two models evaluate the same piece of data and their evaluations are compared. If they disagree on their evaluation, that track is deemed to be a priority for annotation.\n",
    "##### Let's start with an example"
   ]
  },
  {
   "cell_type": "code",
   "execution_count": null,
   "metadata": {},
   "outputs": [],
   "source": [
    "# We need soundfile to load audio data\n",
    "import soundfile as sf\n",
    "\n",
    "# For audio playback\n",
    "from IPython.display import Audio"
   ]
  },
  {
   "cell_type": "code",
   "execution_count": null,
   "metadata": {},
   "outputs": [],
   "source": [
    "# Run algorithmic disagreement process\n",
    "\n",
    "# Populate skipIndices with empty arrays to be filled\n",
    "skipIndices = {}\n",
    "for i in class_map:\n",
    "    skipIndices[i] = []\n",
    "\n",
    "\n",
    "# uncertaintyScores, allPredictions = compare(X_unlabeled, models, skipIndices=skipIndices)"
   ]
  },
  {
   "cell_type": "code",
   "execution_count": null,
   "metadata": {},
   "outputs": [],
   "source": [
    "# uncertaintyScores[\"voice\"]"
   ]
  },
  {
   "cell_type": "code",
   "execution_count": null,
   "metadata": {},
   "outputs": [],
   "source": [
    "# list(uncertaintyScores[\"voice\"].items())[:5]"
   ]
  },
  {
   "cell_type": "code",
   "execution_count": null,
   "metadata": {},
   "outputs": [],
   "source": [
    "# Get ID of the most uncertain track for voice\n",
    "# highest_idx = list(uncertaintyScores.get(\"voice\").items())[0][0]\n",
    "# trackID = split_unlabeled[highest_idx]"
   ]
  },
  {
   "cell_type": "code",
   "execution_count": null,
   "metadata": {},
   "outputs": [],
   "source": [
    "# And the most uncertain track is...\n",
    "# trackID"
   ]
  },
  {
   "attachments": {},
   "cell_type": "markdown",
   "metadata": {},
   "source": [
    "Let's hear what this difficult-to-label track sounds like!"
   ]
  },
  {
   "cell_type": "code",
   "execution_count": null,
   "metadata": {},
   "outputs": [],
   "source": [
    "# Replace below .ogg file with trackID\n",
    "# audio, rate = sf.read(os.path.join(DATA_ROOT, 'audio/027/027639_257280.ogg'))"
   ]
  },
  {
   "cell_type": "code",
   "execution_count": null,
   "metadata": {},
   "outputs": [],
   "source": [
    "# Let's listen to the example\n",
    "# Audio(data=audio.T, rate=rate)"
   ]
  },
  {
   "attachments": {},
   "cell_type": "markdown",
   "metadata": {},
   "source": [
    "### 5 - Incremental Evaluation -- Simulate the Annotation Process"
   ]
  },
  {
   "cell_type": "code",
   "execution_count": null,
   "metadata": {},
   "outputs": [],
   "source": [
    "# First, train a model on the fully annotated dataset. This is what we will be measuring efficiency against. \n",
    "combined_models = dict()\n",
    "ctrl_true_vals = dict()\n",
    "\n",
    "for instrument in class_map:\n",
    "\n",
    "    # get column num from instrument name\n",
    "    inst_num = class_map[instrument]\n",
    "\n",
    "    rfc, props = trainModel(\"rfc\",inst_num, X_train, Y_true_train, Y_mask_train)\n",
    "    combined_models[instrument] = rfc\n",
    "\n",
    "    # Repeat slicing for test\n",
    "    test_inst = Y_mask_test[:, inst_num]\n",
    "    X_test_inst = X_test[test_inst]\n",
    "    X_test_inst_sklearn = np.mean(X_test_inst, axis=1)\n",
    "    Y_true_test_inst = Y_true_test[test_inst, inst_num] >= 0.5\n",
    "\n",
    "\n",
    "    ctrl_true_vals[instrument] = Y_true_test_inst\n"
   ]
  },
  {
   "cell_type": "code",
   "execution_count": 22,
   "metadata": {},
   "outputs": [
    {
     "name": "stdout",
     "output_type": "stream",
     "text": [
      "accordion starting\n",
      "banjo starting\n",
      "bass starting\n",
      "cello starting\n",
      "clarinet starting\n",
      "cymbals starting\n",
      "drums starting\n",
      "flute starting\n",
      "guitar starting\n",
      "mallet_percussion starting\n",
      "mandolin starting\n",
      "organ starting\n",
      "piano starting\n",
      "saxophone starting\n",
      "synthesizer starting\n",
      "trombone starting\n",
      "trumpet starting\n",
      "ukulele starting\n",
      "violin starting\n",
      "voice starting\n",
      "200\n",
      "0 X train new length (1203, 10, 128) (1003, 10, 128) 200\n",
      "0 Y true train new length (1203,) (1003,) 200\n",
      "200\n",
      "1 X train new length (1247, 10, 128) (1047, 10, 128) 200\n",
      "1 Y true train new length (1247,) (1047,) 200\n",
      "200\n",
      "2 X train new length (1135, 10, 128) (935, 10, 128) 200\n",
      "2 Y true train new length (1135,) (935,) 200\n",
      "200\n",
      "3 X train new length (1247, 10, 128) (1047, 10, 128) 200\n",
      "3 Y true train new length (1247,) (1047,) 200\n",
      "200\n",
      "4 X train new length (1331, 10, 128) (1131, 10, 128) 200\n",
      "4 Y true train new length (1331,) (1131,) 200\n",
      "200\n",
      "5 X train new length (1053, 10, 128) (853, 10, 128) 200\n",
      "5 Y true train new length (1053,) (853,) 200\n",
      "200\n",
      "6 X train new length (1041, 10, 128) (841, 10, 128) 200\n",
      "6 Y true train new length (1041,) (841,) 200\n",
      "200\n",
      "7 X train new length (1230, 10, 128) (1030, 10, 128) 200\n",
      "7 Y true train new length (1230,) (1030,) 200\n",
      "200\n",
      "8 X train new length (1041, 10, 128) (841, 10, 128) 200\n",
      "8 Y true train new length (1041,) (841,) 200\n",
      "200\n",
      "9 X train new length (1171, 10, 128) (971, 10, 128) 200\n",
      "9 Y true train new length (1171,) (971,) 200\n",
      "200\n",
      "10 X train new length (1380, 10, 128) (1180, 10, 128) 200\n",
      "10 Y true train new length (1380,) (1180,) 200\n",
      "200\n",
      "11 X train new length (1265, 10, 128) (1065, 10, 128) 200\n",
      "11 Y true train new length (1265,) (1065,) 200\n",
      "200\n",
      "12 X train new length (1093, 10, 128) (893, 10, 128) 200\n",
      "12 Y true train new length (1093,) (893,) 200\n",
      "200\n",
      "13 X train new length (1343, 10, 128) (1143, 10, 128) 200\n",
      "13 Y true train new length (1343,) (1143,) 200\n",
      "200\n",
      "14 X train new length (1023, 10, 128) (823, 10, 128) 200\n",
      "14 Y true train new length (1023,) (823,) 200\n",
      "200\n",
      "15 X train new length (1569, 10, 128) (1369, 10, 128) 200\n",
      "15 Y true train new length (1569,) (1369,) 200\n",
      "200\n",
      "16 X train new length (1629, 10, 128) (1429, 10, 128) 200\n",
      "16 Y true train new length (1629,) (1429,) 200\n",
      "200\n",
      "17 X train new length (1370, 10, 128) (1170, 10, 128) 200\n",
      "17 Y true train new length (1370,) (1170,) 200\n",
      "200\n",
      "18 X train new length (1122, 10, 128) (922, 10, 128) 200\n",
      "18 Y true train new length (1122,) (922,) 200\n",
      "200\n",
      "19 X train new length (1011, 10, 128) (811, 10, 128) 200\n",
      "19 Y true train new length (1011,) (811,) 200\n",
      "accordion starting\n",
      "banjo starting\n",
      "bass starting\n",
      "cello starting\n",
      "clarinet starting\n",
      "cymbals starting\n",
      "drums starting\n",
      "flute starting\n",
      "guitar starting\n",
      "mallet_percussion starting\n",
      "mandolin starting\n",
      "organ starting\n",
      "piano starting\n",
      "saxophone starting\n",
      "synthesizer starting\n",
      "trombone starting\n",
      "trumpet starting\n",
      "ukulele starting\n",
      "violin starting\n",
      "voice starting\n",
      "0\n"
     ]
    },
    {
     "ename": "ValueError",
     "evalue": "all the input arrays must have same number of dimensions, but the array at index 0 has 3 dimension(s) and the array at index 1 has 1 dimension(s)",
     "output_type": "error",
     "traceback": [
      "\u001b[1;31m---------------------------------------------------------------------------\u001b[0m",
      "\u001b[1;31mValueError\u001b[0m                                Traceback (most recent call last)",
      "\u001b[1;32mc:\\Users\\18607\\Github\\inc-eval-openmic\\main.ipynb Cell 28\u001b[0m in \u001b[0;36m6\n\u001b[0;32m     <a href='vscode-notebook-cell:/c%3A/Users/18607/Github/inc-eval-openmic/main.ipynb#Y423sZmlsZQ%3D%3D?line=57'>58</a>\u001b[0m \u001b[39m###########################################################################\u001b[39;00m\n\u001b[0;32m     <a href='vscode-notebook-cell:/c%3A/Users/18607/Github/inc-eval-openmic/main.ipynb#Y423sZmlsZQ%3D%3D?line=58'>59</a>\u001b[0m \u001b[39m# TRAIN MODEL ON PARTIALLY ANNOTATED DATASET\u001b[39;00m\n\u001b[0;32m     <a href='vscode-notebook-cell:/c%3A/Users/18607/Github/inc-eval-openmic/main.ipynb#Y423sZmlsZQ%3D%3D?line=60'>61</a>\u001b[0m inst_num \u001b[39m=\u001b[39m class_map[instr]\n\u001b[1;32m---> <a href='vscode-notebook-cell:/c%3A/Users/18607/Github/inc-eval-openmic/main.ipynb#Y423sZmlsZQ%3D%3D?line=61'>62</a>\u001b[0m model, props \u001b[39m=\u001b[39m trainModel(modelType\u001b[39m=\u001b[39m\u001b[39m\"\u001b[39m\u001b[39mrfc\u001b[39m\u001b[39m\"\u001b[39m,inst_num\u001b[39m=\u001b[39minst_num, X_train\u001b[39m=\u001b[39mX_train, \\\n\u001b[0;32m     <a href='vscode-notebook-cell:/c%3A/Users/18607/Github/inc-eval-openmic/main.ipynb#Y423sZmlsZQ%3D%3D?line=62'>63</a>\u001b[0m         X_labeled\u001b[39m=\u001b[39mX_labeled, Y_true_train\u001b[39m=\u001b[39mY_true_train, Y_true_labeled\u001b[39m=\u001b[39mnp\u001b[39m.\u001b[39marray(Y_true_labeled), \\\n\u001b[0;32m     <a href='vscode-notebook-cell:/c%3A/Users/18607/Github/inc-eval-openmic/main.ipynb#Y423sZmlsZQ%3D%3D?line=63'>64</a>\u001b[0m         Y_mask_train\u001b[39m=\u001b[39mY_mask_train)\n\u001b[0;32m     <a href='vscode-notebook-cell:/c%3A/Users/18607/Github/inc-eval-openmic/main.ipynb#Y423sZmlsZQ%3D%3D?line=65'>66</a>\u001b[0m instrProps[instr]\u001b[39m.\u001b[39mappend(props)\n\u001b[0;32m     <a href='vscode-notebook-cell:/c%3A/Users/18607/Github/inc-eval-openmic/main.ipynb#Y423sZmlsZQ%3D%3D?line=67'>68</a>\u001b[0m \u001b[39m# Repeat slicing for test\u001b[39;00m\n",
      "File \u001b[1;32mc:\\Users\\18607\\Github\\inc-eval-openmic\\compare.py:155\u001b[0m, in \u001b[0;36mtrainModel\u001b[1;34m(modelType, inst_num, X_train, Y_true_train, Y_mask_train, Y_true_labeled, X_labeled)\u001b[0m\n\u001b[0;32m    151\u001b[0m \u001b[39mif\u001b[39;00m X_labeled \u001b[39m!=\u001b[39m \u001b[39mNone\u001b[39;00m:\n\u001b[0;32m    153\u001b[0m     \u001b[39mprint\u001b[39m(\u001b[39mlen\u001b[39m(X_labeled))\n\u001b[1;32m--> 155\u001b[0m     X_train_new \u001b[39m=\u001b[39m np\u001b[39m.\u001b[39;49mappend(X_train_inst, X_labeled, axis\u001b[39m=\u001b[39;49m\u001b[39m0\u001b[39;49m)\n\u001b[0;32m    157\u001b[0m     \u001b[39mprint\u001b[39m(inst_num, \u001b[39m\"\u001b[39m\u001b[39mX train new length\u001b[39m\u001b[39m\"\u001b[39m, X_train_new\u001b[39m.\u001b[39mshape, X_train_inst\u001b[39m.\u001b[39mshape, \u001b[39mlen\u001b[39m(X_labeled))\n\u001b[0;32m    159\u001b[0m     \u001b[39m# averages features over time\u001b[39;00m\n",
      "File \u001b[1;32m<__array_function__ internals>:180\u001b[0m, in \u001b[0;36mappend\u001b[1;34m(*args, **kwargs)\u001b[0m\n",
      "File \u001b[1;32m~\\AppData\\Roaming\\Python\\Python310\\site-packages\\numpy\\lib\\function_base.py:5444\u001b[0m, in \u001b[0;36mappend\u001b[1;34m(arr, values, axis)\u001b[0m\n\u001b[0;32m   5442\u001b[0m     values \u001b[39m=\u001b[39m ravel(values)\n\u001b[0;32m   5443\u001b[0m     axis \u001b[39m=\u001b[39m arr\u001b[39m.\u001b[39mndim\u001b[39m-\u001b[39m\u001b[39m1\u001b[39m\n\u001b[1;32m-> 5444\u001b[0m \u001b[39mreturn\u001b[39;00m concatenate((arr, values), axis\u001b[39m=\u001b[39;49maxis)\n",
      "File \u001b[1;32m<__array_function__ internals>:180\u001b[0m, in \u001b[0;36mconcatenate\u001b[1;34m(*args, **kwargs)\u001b[0m\n",
      "\u001b[1;31mValueError\u001b[0m: all the input arrays must have same number of dimensions, but the array at index 0 has 3 dimension(s) and the array at index 1 has 1 dimension(s)"
     ]
    }
   ],
   "source": [
    "# Constants\n",
    "NUM_TO_LABEL = 900  # Batch size\n",
    "NUM_RANDOM = 50      # Number of random tracks to include \n",
    "EPOCHS = 5       # Number of times to annotate\n",
    "\n",
    "# Set Up\n",
    "skipIndices = {}\n",
    "accuracies_over_time = {}\n",
    "ctrl_accuracies = {}\n",
    "instrProps = {}\n",
    "reports = {}\n",
    "f1s = {}\n",
    "# Populate dictionaries with instrument keys\n",
    "for i in class_map:\n",
    "    skipIndices[i] = []\n",
    "    accuracies_over_time[i] = []\n",
    "    ctrl_accuracies[i] = []\n",
    "    instrProps[i] = []\n",
    "    reports[i] = []\n",
    "    f1s[i] = []\n",
    "\n",
    "# MAIN LOOP\n",
    "for i in range(EPOCHS):\n",
    "\n",
    "    # get instrument predictions\n",
    "    sorted_trx, allInstProbs = compare(X_unlabeled, models, skipIndices=skipIndices)\n",
    "\n",
    "    for instr in sorted_trx:    \n",
    "        X_labeled = []           # Track IDs for labeled tracks\n",
    "        Y_true_labeled = []      # True values for labeled tracks\n",
    "\n",
    "        ###########################################################################\n",
    "        # SELECT TRACKS FOR ANNOTATION\n",
    "\n",
    "        # Retrieve the top tracks for annotation\n",
    "        track_indices = list(sorted_trx[instr].items())[:NUM_TO_LABEL]\n",
    "        track_indices = [i[0] for i in track_indices]   # isolates the indices\n",
    "\n",
    "        # add random tracks to be annotated to avoid false positives\n",
    "        # track_indices = addRandomTracks(NUM_RANDOM, len(sorted_trx[instr]), track_indices, allInstProbs[instr])\n",
    "\n",
    "        # add track IDs to the labeled list\n",
    "        for trk in track_indices:\n",
    "            X_labeled.append(X_unlabeled[trk])\n",
    "\n",
    "            # If the track has not yet been labeled for this instrument, update with avg prediction\n",
    "            if Y_true_unlabeled[trk][class_map[instr]] == 0.5:\n",
    "                Y_true_unlabeled[trk][class_map[instr]] = np.average(allInstProbs[instr][trk])\n",
    "        \n",
    "            Y_true_labeled.append(Y_true_unlabeled[trk])\n",
    "            Y_mask_unlabeled[trk][class_map[instr]] = True\n",
    "\n",
    "        # Update indices to skip here\n",
    "        skipIndices[instr] = np.append(skipIndices[instr], track_indices)\n",
    "\n",
    "\n",
    "        \n",
    "        ###########################################################################\n",
    "        # TRAIN MODEL ON PARTIALLY ANNOTATED DATASET\n",
    "        \n",
    "        inst_num = class_map[instr]\n",
    "        model, props = trainModel(modelType=\"rfc\",inst_num=inst_num, X_train=X_train, \\\n",
    "                X_labeled=X_labeled, Y_true_train=Y_true_train, Y_true_labeled=np.array(Y_true_labeled), \\\n",
    "                Y_mask_train=Y_mask_train)\n",
    "        \n",
    "        instrProps[instr].append(props)\n",
    "\n",
    "        # Repeat slicing for test\n",
    "        test_inst = Y_mask_test[:, inst_num]\n",
    "        X_test_inst = X_test[test_inst]\n",
    "        X_test_inst_sklearn = np.mean(X_test_inst, axis=1)\n",
    "        Y_true_test_inst = Y_true_test[test_inst, inst_num] >= 0.5\n",
    "\n",
    "\n",
    "        ###########################################################################\n",
    "        # COMPARE ACCURACY WITH FULLY ANNOTATED MODEL\n",
    "\n",
    "        # Graph the accuracy results\n",
    "        control_model = combined_models[instr]\n",
    "\n",
    "        Y_pred_test_ctrl = control_model.predict(X_test_inst_sklearn)\n",
    "        Y_pred_test_rfc = model.predict(X_test_inst_sklearn)\n",
    "\n",
    "        rprt = classification_report(Y_true_test_inst, Y_pred_test_rfc, output_dict=True) \n",
    "        ctrl_rprt = classification_report(ctrl_true_vals[instr], Y_pred_test_ctrl, output_dict=True)\n",
    "\n",
    "        acc = rprt[\"accuracy\"]\n",
    "        ctrl_acc = ctrl_rprt[\"accuracy\"]\n",
    "\n",
    "\n",
    "        f1 = rprt['weighted avg']['f1-score']\n",
    "\n",
    "        accuracies_over_time[instr].append(acc)\n",
    "        ctrl_accuracies[instr].append(ctrl_acc)\n",
    "        f1s[instr].append(f1)\n",
    "        reports[instr].append(rprt)\n"
   ]
  },
  {
   "cell_type": "code",
   "execution_count": null,
   "metadata": {},
   "outputs": [],
   "source": [
    "train_inst = Y_mask_train[:, inst_num] \n",
    "\n",
    "X_train_inst = X_train[train_inst]"
   ]
  },
  {
   "cell_type": "code",
   "execution_count": null,
   "metadata": {},
   "outputs": [],
   "source": [
    "X_train_inst.shape"
   ]
  },
  {
   "cell_type": "code",
   "execution_count": null,
   "metadata": {},
   "outputs": [],
   "source": [
    "X_labeled"
   ]
  },
  {
   "attachments": {},
   "cell_type": "markdown",
   "metadata": {},
   "source": [
    "# Graph the results"
   ]
  },
  {
   "cell_type": "code",
   "execution_count": null,
   "metadata": {},
   "outputs": [],
   "source": [
    "# for i in class_map:\n",
    "\n",
    "#     # plt.figure(figsize=(6,6))\n",
    "\n",
    "#     plt.bar([\"train positive\", \"train negative\"], height=instrProps[i][j].get('train'))\n",
    "#     plt.bar([\"test positive\", \"test negative\"], height=instrProps[i][j].get('test'))\n",
    "\n",
    "#     plt.xlabel(\"Epochs\")\n",
    "#     plt.ylabel(\"Number of Tracks\")\n",
    "#     plt.title(i)\n",
    "#     plt.show()"
   ]
  },
  {
   "cell_type": "code",
   "execution_count": null,
   "metadata": {},
   "outputs": [],
   "source": [
    "# x = np.arange(len(class_map))  # the label locations\n",
    "# width = 0.25  # the width of the bars\n",
    "# multiplier = 0\n",
    "\n",
    "# fig, ax = plt.subplots(layout='constrained', figsize=(12,4))\n",
    "\n",
    "# for train in instrProps[i][0].items():\n",
    "#     val = train\n",
    "#     offset = width * multiplier\n",
    "#     rects = ax.bar(x + offset, train[1][0], width, label=train[0])\n",
    "#     ax.bar_label(rects, padding=3)\n",
    "#     multiplier += 1\n",
    "\n",
    "# # Add some text for labels, title and custom x-axis tick labels, etc.\n",
    "# ax.set_ylabel('Number of Tracks')\n",
    "# ax.set_title('Positive vs. Negative Examples')\n",
    "# ax.set_xticks(x + width, class_map)\n",
    "# ax.legend(loc='upper left', ncols=3)\n",
    "\n",
    "# plt.show()"
   ]
  },
  {
   "cell_type": "code",
   "execution_count": null,
   "metadata": {},
   "outputs": [],
   "source": [
    "for i in class_map:\n",
    "    plt.plot(f1s[i], linestyle='dotted')\n",
    "    plt.xlabel(\"Epochs\")\n",
    "    plt.xticks(np.arange(len(f1s[i])), np.arange(1, len(f1s[i])+1))\n",
    "    plt.ylabel(\"f1-Score\")\n",
    "    plt.title(i)\n",
    "    plt.show()"
   ]
  },
  {
   "cell_type": "code",
   "execution_count": null,
   "metadata": {},
   "outputs": [],
   "source": [
    "for i in class_map:\n",
    "    plt.plot(accuracies_over_time[i], linestyle='dotted')\n",
    "    plt.plot(ctrl_accuracies[i])\n",
    "    plt.xlabel(\"Epochs\")\n",
    "    plt.xticks(np.arange(len(accuracies_over_time[i])), np.arange(1, len(accuracies_over_time[i])+1))\n",
    "    plt.ylabel(\"Accuracy\")\n",
    "    plt.title(i)\n",
    "    plt.show()"
   ]
  },
  {
   "cell_type": "code",
   "execution_count": null,
   "metadata": {},
   "outputs": [],
   "source": [
    "# Plot average accuracy across instruments\n",
    "partial = []\n",
    "control = []\n",
    "\n",
    "for n in range(EPOCHS):\n",
    "    t = [accuracies_over_time[i][n] for i in accuracies_over_time]   # isolates the indices\n",
    "    b = [ctrl_accuracies[i][n] for i in ctrl_accuracies]   # isolates the indices\n",
    "    partial.append(np.average(t))\n",
    "    control.append(np.average(b))"
   ]
  },
  {
   "cell_type": "code",
   "execution_count": null,
   "metadata": {},
   "outputs": [],
   "source": [
    "plt.plot(partial, linestyle='dotted')\n",
    "plt.plot(control)\n",
    "plt.xlabel(\"Epochs\")\n",
    "plt.xticks(np.arange(len(accuracies_over_time[i])), np.arange(1, len(accuracies_over_time[i])+1))\n",
    "plt.ylabel(\"Average Accuracy\")\n",
    "plt.title(\"Accuracy Across all Instruments\")\n",
    "plt.show()"
   ]
  }
 ],
 "metadata": {
  "interpreter": {
   "hash": "02260bda173dc4cfac9721b963d852cbd460b4b9f259c47413be5d43f6c0ea6b"
  },
  "kernelspec": {
   "display_name": "Python 3.10.10 64-bit (windows store)",
   "language": "python",
   "name": "python3"
  },
  "language_info": {
   "codemirror_mode": {
    "name": "ipython",
    "version": 3
   },
   "file_extension": ".py",
   "mimetype": "text/x-python",
   "name": "python",
   "nbconvert_exporter": "python",
   "pygments_lexer": "ipython3",
   "version": "3.10.0"
  },
  "orig_nbformat": 4,
  "vscode": {
   "interpreter": {
    "hash": "369f2c481f4da34e4445cda3fffd2e751bd1c4d706f27375911949ba6bb62e1c"
   }
  }
 },
 "nbformat": 4,
 "nbformat_minor": 2
}
