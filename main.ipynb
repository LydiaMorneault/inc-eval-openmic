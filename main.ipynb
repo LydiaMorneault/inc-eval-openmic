{
 "cells": [
  {
   "attachments": {},
   "cell_type": "markdown",
   "metadata": {},
   "source": [
    "# Incremental Evaluation\n",
    "\n",
    "## 1 - Load the data"
   ]
  },
  {
   "cell_type": "code",
   "execution_count": null,
   "metadata": {},
   "outputs": [],
   "source": [
    "# Imports\n",
    "\n",
    "import json\n",
    "import os\n",
    "import numpy as np\n",
    "import pandas as pd\n",
    "\n",
    "from sklearn.ensemble import RandomForestClassifier\n",
    "from sklearn.neighbors import KNeighborsClassifier\n",
    "from sklearn.metrics import classification_report\n",
    "\n",
    "# Be sure to set this after downloading the dataset!\n",
    "DATA_ROOT = 'C:\\openmic-2018\\openmic-2018'\n",
    "\n",
    "if not os.path.exists(DATA_ROOT):\n",
    "    raise ValueError('Did you forget to set `DATA_ROOT`?')\n"
   ]
  },
  {
   "cell_type": "code",
   "execution_count": null,
   "metadata": {},
   "outputs": [],
   "source": [
    "# Loading the data\n",
    "OPENMIC = np.load(os.path.join(DATA_ROOT, 'openmic-2018.npz'), allow_pickle=True)\n",
    "\n",
    "# Make direct variable names for everything\n",
    "X, Y_true, Y_mask, sample_key = OPENMIC['X'], OPENMIC['Y_true'], OPENMIC['Y_mask'], OPENMIC['sample_key']\n"
   ]
  },
  {
   "cell_type": "code",
   "execution_count": null,
   "metadata": {},
   "outputs": [],
   "source": [
    "# Map class indices to names\n",
    "with open(os.path.join(DATA_ROOT, 'class-map.json'), 'r') as f:\n",
    "    class_map = json.load(f)"
   ]
  },
  {
   "cell_type": "code",
   "execution_count": null,
   "metadata": {},
   "outputs": [],
   "source": [
    "class_map"
   ]
  },
  {
   "attachments": {},
   "cell_type": "markdown",
   "metadata": {},
   "source": [
    "## 2 - Load OpenMIC's train-test splits"
   ]
  },
  {
   "cell_type": "code",
   "execution_count": null,
   "metadata": {},
   "outputs": [],
   "source": [
    "# Let's split the data into the training and test set\n",
    "# We use squeeze=True here to return a single array for each, rather than a full DataFrame\n",
    "\n",
    "split_train = pd.read_csv(os.path.join(DATA_ROOT, 'partitions/split01_train.csv'), \n",
    "                          header=None).squeeze(\"columns\")\n",
    "split_test = pd.read_csv(os.path.join(DATA_ROOT, 'partitions/split01_test.csv'), \n",
    "                         header=None).squeeze(\"columns\")\n",
    "\n",
    "# Create partition CSV for unlabeled\n",
    "split_unlabeled = pd.read_csv(os.path.join(DATA_ROOT, 'partitions/split01_unlabeled.csv'), \n",
    "                         header=None).squeeze(\"columns\")"
   ]
  },
  {
   "cell_type": "code",
   "execution_count": null,
   "metadata": {},
   "outputs": [],
   "source": [
    "# How many train and test examples do we have?  About 75%/25%\n",
    "print('# Train: {},  # Test: {}, # Unlabeled: {}'.format(len(split_train), len(split_test), len(split_unlabeled)))"
   ]
  },
  {
   "cell_type": "code",
   "execution_count": null,
   "metadata": {},
   "outputs": [],
   "source": [
    "train_set = set(split_train)\n",
    "test_set = set(split_test)\n",
    "unlabeled_set = set(split_unlabeled)"
   ]
  },
  {
   "cell_type": "code",
   "execution_count": null,
   "metadata": {},
   "outputs": [],
   "source": [
    "# Split the data into arrays\n",
    "\n",
    "idx_train, idx_test, idx_unlabeled = [], [], []\n",
    "\n",
    "for idx, n in enumerate(sample_key):\n",
    "    if n in train_set:\n",
    "        idx_train.append(idx)\n",
    "    elif n in test_set:\n",
    "        idx_test.append(idx)\n",
    "    elif n in unlabeled_set:\n",
    "        idx_unlabeled.append(idx)\n",
    "    else:\n",
    "        raise RuntimeError('Unknown sample key={}! Abort!'.format(sample_key[n]))\n",
    "\n",
    "# Cast the idx_* arrays to numpy structures\n",
    "idx_train = np.asarray(idx_train)\n",
    "idx_test = np.asarray(idx_test)\n",
    "idx_unlabeled = np.asarray(idx_unlabeled)"
   ]
  },
  {
   "cell_type": "code",
   "execution_count": null,
   "metadata": {},
   "outputs": [],
   "source": [
    "# Finally, we use the split indices to partition the features, labels, and masks\n",
    "X_train = X[idx_train]\n",
    "X_test = X[idx_test]\n",
    "X_unlabeled = X[idx_unlabeled]\n",
    "\n",
    "Y_true_train = Y_true[idx_train]\n",
    "Y_true_test = Y_true[idx_test]\n",
    "Y_true_unlabeled = Y_true[idx_unlabeled]\n",
    "\n",
    "Y_mask_train = Y_mask[idx_train]\n",
    "Y_mask_test = Y_mask[idx_test]\n",
    "Y_mask_unlabeled = Y_mask[idx_unlabeled]"
   ]
  },
  {
   "cell_type": "code",
   "execution_count": null,
   "metadata": {},
   "outputs": [],
   "source": [
    "# Validate shapes of slices\n",
    "print(X_train.shape)\n",
    "print(X_test.shape)\n",
    "print(X_unlabeled.shape)"
   ]
  },
  {
   "attachments": {},
   "cell_type": "markdown",
   "metadata": {},
   "source": [
    "## 3 - Fit the models"
   ]
  },
  {
   "cell_type": "code",
   "execution_count": null,
   "metadata": {},
   "outputs": [],
   "source": [
    "models = dict()\n",
    "\n",
    "for instrument in class_map:\n",
    "\n",
    "    # get column num from instrument name\n",
    "    inst_num = class_map[instrument]\n",
    "\n",
    "    # isolate data that has been labeled as this instrument\n",
    "    train_inst = Y_mask_train[:, inst_num]\n",
    "    test_inst = Y_mask_test[:, inst_num]\n",
    "\n",
    "    # gets training data with labels for this instrument\n",
    "    X_train_inst = X_train[train_inst]\n",
    "\n",
    "    # averages features over time\n",
    "    X_train_inst_sklearn = np.mean(X_train_inst, axis=1)\n",
    "\n",
    "    # labels instrument as present if value over 0.5\n",
    "    Y_true_train_inst = Y_true_train[train_inst, inst_num] >= 0.5\n",
    "\n",
    "    # Repeat slicing for test\n",
    "    X_test_inst = X_test[test_inst]\n",
    "    X_test_inst_sklearn = np.mean(X_test_inst, axis=1)\n",
    "    Y_true_test_inst = Y_true_test[test_inst, inst_num] >= 0.5\n",
    "\n",
    "    # Initialize a new classifier\n",
    "    rfc = RandomForestClassifier(max_depth=8, n_estimators=100, random_state=0)\n",
    "    knn = KNeighborsClassifier(n_neighbors=3)\n",
    "\n",
    "    # Fit model\n",
    "    rfc.fit(X_train_inst_sklearn, Y_true_train_inst)\n",
    "    knn.fit(X_train_inst_sklearn, Y_true_train_inst)\n",
    "\n",
    "    # Evaluate the model\n",
    "    Y_pred_train_rfc = rfc.predict(X_train_inst_sklearn)\n",
    "    Y_pred_test_rfc = rfc.predict(X_test_inst_sklearn)\n",
    "\n",
    "    Y_pred_train_knn = knn.predict(X_train_inst_sklearn)\n",
    "    Y_pred_test_knn = knn.predict(X_test_inst_sklearn)\n",
    "\n",
    "    print('-' * 52)\n",
    "    print(instrument)\n",
    "    print('\\tTRAIN RFC')\n",
    "    print(classification_report(Y_true_train_inst, Y_pred_train_rfc))\n",
    "    print('\\tTEST RFC')\n",
    "    print(classification_report(Y_true_test_inst, Y_pred_test_rfc))\n",
    "    print('\\tTRAIN knn')\n",
    "    print(classification_report(Y_true_train_inst, Y_pred_train_knn))\n",
    "    print('\\tTEST knn')\n",
    "    print(classification_report(Y_true_test_inst, Y_pred_test_knn))\n",
    "    \n",
    "    # Store the classifier in our dictionary\n",
    "    models[instrument] = [rfc, knn]"
   ]
  },
  {
   "attachments": {},
   "cell_type": "markdown",
   "metadata": {},
   "source": [
    "## Algorithmic Disagreement\n",
    "\n",
    "### Let's start with an example"
   ]
  },
  {
   "cell_type": "code",
   "execution_count": null,
   "metadata": {},
   "outputs": [],
   "source": [
    "# We need soundfile to load audio data\n",
    "import soundfile as sf\n",
    "import sys\n",
    "\n",
    "# And the openmic-vggish preprocessor\n",
    "sys.path.append('../openmic/')\n",
    "from openmic.vggish import *\n",
    "# test\n",
    "\n",
    "# For audio playback\n",
    "from IPython.display import Audio\n",
    "\n",
    "from prioritize import compare"
   ]
  },
  {
   "cell_type": "code",
   "execution_count": null,
   "metadata": {},
   "outputs": [],
   "source": [
    "# Run algorithmic disagreement process\n",
    "comparisons, instrumentDiffs, allInstProbs = compare(X_unlabeled, models)\n",
    "\n",
    "# Sort the dictionary to get the highest uncertainty score    \n",
    "sorted1 = dict(sorted(comparisons.items(), key=lambda item:item[1], reverse=True))\n",
    "highest_idx = list(sorted1.items())[0][0]\n",
    "\n",
    "# Get trackID\n",
    "trackID = split_unlabeled[highest_idx]"
   ]
  },
  {
   "cell_type": "code",
   "execution_count": null,
   "metadata": {},
   "outputs": [],
   "source": [
    "trackID"
   ]
  },
  {
   "attachments": {},
   "cell_type": "markdown",
   "metadata": {},
   "source": [
    "Let's hear what this difficult-to-label track sounds like!"
   ]
  },
  {
   "cell_type": "code",
   "execution_count": null,
   "metadata": {},
   "outputs": [],
   "source": [
    "# Replace below .ogg file with trackID\n",
    "audio, rate = sf.read(os.path.join(DATA_ROOT, 'audio/000/000046_3840.ogg'))"
   ]
  },
  {
   "cell_type": "code",
   "execution_count": null,
   "metadata": {},
   "outputs": [],
   "source": [
    "# Let's listen to the example\n",
    "Audio(data=audio.T, rate=rate)"
   ]
  },
  {
   "cell_type": "code",
   "execution_count": null,
   "metadata": {},
   "outputs": [],
   "source": [
    "# this displays the instruments that the models disagreed on\n",
    "instrumentDiffs.get(highest_idx)"
   ]
  },
  {
   "cell_type": "code",
   "execution_count": null,
   "metadata": {},
   "outputs": [],
   "source": [
    "# this displays all the instrument evaluations\n",
    "allInstProbs.get(highest_idx)"
   ]
  },
  {
   "attachments": {},
   "cell_type": "markdown",
   "metadata": {},
   "source": [
    "### Simulate Annotation (Iterate)"
   ]
  },
  {
   "cell_type": "code",
   "execution_count": null,
   "metadata": {},
   "outputs": [],
   "source": [
    "X_labeled = []      # Track IDs for labeled tracks will be added here\n",
    "NUM_TO_LABEL = 5    # Batch size\n",
    "NUM_RANDOM = 2      # Number of random tracks to include \n",
    "EPOCHS = 5          # Number of times to annotate\n",
    "\n",
    "lenUnl = len(X_unlabeled)\n",
    "\n",
    "\n",
    "for i in range(EPOCHS):\n",
    "    # get instrument predictions\n",
    "    predictions = compare(X_unlabeled, models)[0]\n",
    "\n",
    "    # Sort the dictionary to get the highest uncertainty score    \n",
    "    sorted_trx = dict(sorted(predictions.items(), key=lambda item:item[1], reverse=True))\n",
    "\n",
    "    # get highest tracks\n",
    "    track_indices = list(sorted_trx.items())[:NUM_TO_LABEL]\n",
    "    track_indices = [i[0] for i in track_indices]   # gets just indices\n",
    "\n",
    "    # add random tracks for labeling\n",
    "    rand_idx = np.random.randint(0, len(sorted_trx))\n",
    "    i = 0\n",
    "\n",
    "    while i < NUM_RANDOM:\n",
    "        if rand_idx not in track_indices:\n",
    "            track_indices.append(rand_idx)\n",
    "            i += 1\n",
    "        rand_idx = np.random.randint(0, len(sorted_trx))\n",
    "\n",
    "    # add track IDs to the labeled list\n",
    "    for trk in track_indices:\n",
    "        X_labeled.append(split_unlabeled[trk])\n",
    "\n",
    "    # simulate annotation, remove tracks from unlabeled set\n",
    "    X_unlabeled = np.delete(X_unlabeled, track_indices, 0)\n",
    "    print(\"prev:\", lenUnl, \", new:\", len(X_unlabeled), \", labeled:\", len(X_labeled))"
   ]
  },
  {
   "cell_type": "code",
   "execution_count": null,
   "metadata": {},
   "outputs": [],
   "source": [
    "# Compare sizes \n",
    "print(lenUnl, len(X_unlabeled))"
   ]
  },
  {
   "attachments": {},
   "cell_type": "markdown",
   "metadata": {},
   "source": [
    "Update\n",
    "* Annotation process is simulated\n",
    "\n",
    "To Do\n",
    "* Train model on incrementally evaluated dataset"
   ]
  }
 ],
 "metadata": {
  "kernelspec": {
   "display_name": "Python 3",
   "language": "python",
   "name": "python3"
  },
  "language_info": {
   "codemirror_mode": {
    "name": "ipython",
    "version": 3
   },
   "file_extension": ".py",
   "mimetype": "text/x-python",
   "name": "python",
   "nbconvert_exporter": "python",
   "pygments_lexer": "ipython3",
   "version": "3.10.0"
  },
  "orig_nbformat": 4,
  "vscode": {
   "interpreter": {
    "hash": "369f2c481f4da34e4445cda3fffd2e751bd1c4d706f27375911949ba6bb62e1c"
   }
  }
 },
 "nbformat": 4,
 "nbformat_minor": 2
}
